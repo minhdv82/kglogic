{
 "cells": [
  {
   "cell_type": "code",
   "execution_count": 1,
   "metadata": {},
   "outputs": [],
   "source": [
    "import os\n",
    "from os.path import join, abspath\n",
    "from src.kglogic import *\n",
    "from src.sat import Sat"
   ]
  },
  {
   "cell_type": "code",
   "execution_count": 2,
   "metadata": {},
   "outputs": [
    {
     "name": "stdout",
     "output_type": "stream",
     "text": [
      "examples\\sat.txt\n"
     ]
    }
   ],
   "source": [
    "cur_dir = os.path.dirname(__name__)\n",
    "file_name = join(cur_dir, 'examples')\n",
    "file_name = join(file_name, 'sat.txt')\n",
    "print(file_name)"
   ]
  },
  {
   "cell_type": "code",
   "execution_count": 3,
   "metadata": {},
   "outputs": [
    {
     "name": "stdout",
     "output_type": "stream",
     "text": [
      "<src.sat.Sat object at 0x00000288A53E0510>\n"
     ]
    }
   ],
   "source": [
    "sat = Sat.parse(file_name)\n",
    "print(sat)"
   ]
  },
  {
   "cell_type": "code",
   "execution_count": 4,
   "metadata": {},
   "outputs": [],
   "source": [
    "kg = KnowledgeBase.from_sat(sat)"
   ]
  },
  {
   "cell_type": "code",
   "execution_count": 6,
   "metadata": {},
   "outputs": [
    {
     "name": "stdout",
     "output_type": "stream",
     "text": [
      "iter: 0, loss: 0.0018151493030040071\n",
      "iter: 100, loss: 0.0016739412911075619\n",
      "iter: 200, loss: 0.0013305001463416186\n",
      "iter: 300, loss: 0.0009413194328536718\n",
      "iter: 400, loss: 0.0006191080520651799\n",
      "iter: 500, loss: 0.00039458410141444164\n",
      "iter: 600, loss: 0.00025119750803001453\n",
      "iter: 700, loss: 0.0001624566529924527\n",
      "iter: 800, loss: 0.00010741167805147523\n",
      "iter: 900, loss: 7.26369818756008e-05\n",
      "iter: 1000, loss: 5.005707702903982e-05\n",
      "iter: 1100, loss: 3.527393845691221e-05\n",
      "iter: 1200, loss: 2.5720518706486503e-05\n",
      "iter: 1300, loss: 1.943873658856863e-05\n",
      "iter: 1400, loss: 1.5059749371901167e-05\n",
      "iter: 1500, loss: 1.1792277303644397e-05\n",
      "iter: 1600, loss: 9.339039749269885e-06\n",
      "iter: 1700, loss: 7.466031437175805e-06\n",
      "iter: 1800, loss: 5.964782355535641e-06\n",
      "iter: 1900, loss: 4.761212005437984e-06\n",
      "iter: 2000, loss: 3.8025328977050095e-06\n",
      "iter: 2100, loss: 3.0427785679769256e-06\n",
      "iter: 2200, loss: 2.44050385103339e-06\n",
      "iter: 2300, loss: 1.9677502063425177e-06\n",
      "iter: 2400, loss: 1.5933387698337114e-06\n",
      "iter: 2500, loss: 1.298262138086704e-06\n",
      "iter: 2600, loss: 1.0672230826747714e-06\n",
      "Check converge at iter = 2635\n",
      "Converge!\n",
      "<type: Atom; name: var1; truth: 1>\n",
      "<type: Atom; name: var2; truth: 1>\n",
      "<type: Atom; name: var3; truth: 1>\n",
      "<type: Atom; name: var4; truth: 1>\n",
      "<type: Atom; name: var5; truth: 1>\n",
      "<type: Atom; name: var6; truth: 0>\n",
      "<type: Atom; name: var7; truth: 1>\n",
      "<type: Atom; name: var8; truth: 0>\n",
      "<type: Atom; name: var9; truth: 0>\n",
      "<type: Atom; name: var10; truth: 1>\n",
      "<type: Atom; name: var11; truth: 0>\n",
      "<type: Atom; name: var12; truth: 1>\n",
      "<type: Atom; name: var13; truth: 0>\n",
      "<type: Atom; name: var14; truth: 1>\n",
      "<type: Atom; name: var15; truth: 1>\n",
      "<type: Atom; name: var16; truth: 1>\n",
      "<type: Atom; name: var17; truth: 0>\n",
      "<type: Atom; name: var18; truth: 1>\n",
      "<type: Atom; name: var19; truth: 1>\n",
      "<type: Atom; name: var20; truth: 1>\n",
      "<type: Atom; name: var21; truth: 1>\n",
      "<type: Atom; name: var22; truth: 0>\n",
      "<type: Atom; name: var23; truth: 1>\n",
      "<type: Atom; name: var24; truth: 1>\n",
      "<type: Atom; name: var25; truth: 1>\n",
      "<type: Atom; name: var26; truth: 1>\n",
      "<type: Atom; name: var27; truth: 1>\n",
      "<type: Atom; name: var28; truth: 1>\n",
      "<type: Atom; name: var29; truth: 1>\n",
      "<type: Atom; name: var30; truth: 1>\n",
      "<type: Atom; name: var31; truth: 1>\n",
      "<type: Atom; name: var32; truth: 0>\n",
      "<type: Atom; name: var33; truth: 0>\n",
      "<type: Atom; name: var34; truth: 0>\n",
      "<type: Atom; name: var35; truth: 1>\n",
      "<type: Atom; name: var36; truth: 1>\n",
      "<type: Atom; name: var37; truth: 1>\n",
      "<type: Atom; name: var38; truth: 0>\n",
      "<type: Atom; name: var39; truth: 1>\n",
      "<type: Atom; name: var40; truth: 1>\n",
      "<type: Atom; name: var41; truth: 1>\n",
      "<type: Atom; name: var42; truth: 1>\n",
      "<type: Atom; name: var43; truth: 1>\n",
      "<type: Atom; name: var44; truth: 1>\n",
      "<type: Atom; name: var45; truth: 1>\n",
      "<type: Atom; name: var46; truth: 1>\n",
      "<type: Atom; name: var47; truth: 1>\n",
      "<type: Atom; name: var48; truth: 1>\n",
      "<type: Atom; name: var49; truth: 1>\n",
      "<type: Atom; name: var50; truth: 1>\n",
      "<type: Atom; name: var51; truth: 1>\n",
      "<type: Atom; name: var52; truth: 1>\n",
      "<type: Atom; name: var53; truth: 1>\n",
      "<type: Atom; name: var54; truth: 1>\n",
      "<type: Atom; name: var55; truth: 1>\n",
      "<type: Atom; name: var56; truth: 0>\n",
      "<type: Atom; name: var57; truth: 1>\n",
      "<type: Atom; name: var58; truth: 1>\n",
      "<type: Atom; name: var59; truth: 0>\n",
      "<type: Atom; name: var60; truth: 0>\n",
      "<type: Atom; name: var61; truth: 1>\n",
      "<type: Atom; name: var62; truth: 1>\n",
      "<type: Atom; name: var63; truth: 0>\n",
      "<type: Atom; name: var64; truth: 1>\n",
      "<type: Atom; name: var65; truth: 0>\n",
      "<type: Atom; name: var66; truth: 0>\n",
      "<type: Atom; name: var67; truth: 1>\n",
      "<type: Atom; name: var68; truth: 1>\n",
      "<type: Atom; name: var69; truth: 1>\n",
      "<type: Atom; name: var70; truth: 1>\n",
      "<type: Atom; name: var71; truth: 1>\n",
      "<type: Atom; name: var72; truth: 1>\n",
      "<type: Atom; name: var73; truth: 1>\n",
      "<type: Atom; name: var74; truth: 0>\n",
      "<type: Atom; name: var75; truth: 1>\n",
      "<type: Atom; name: var76; truth: 0>\n",
      "<type: Atom; name: var77; truth: 1>\n",
      "<type: Atom; name: var78; truth: 1>\n",
      "<type: Atom; name: var79; truth: 0>\n",
      "<type: Atom; name: var80; truth: 1>\n",
      "<type: Atom; name: var81; truth: 0>\n",
      "<type: Atom; name: var82; truth: 1>\n",
      "<type: Atom; name: var83; truth: 1>\n",
      "<type: Atom; name: var84; truth: 1>\n",
      "<type: Atom; name: var85; truth: 1>\n",
      "<type: Atom; name: var86; truth: 0>\n",
      "<type: Atom; name: var87; truth: 1>\n",
      "<type: Atom; name: var88; truth: 1>\n",
      "<type: Atom; name: var89; truth: 1>\n",
      "<type: Atom; name: var90; truth: 1>\n",
      "<type: Atom; name: var91; truth: 1>\n",
      "<type: Atom; name: var92; truth: 0>\n",
      "<type: Atom; name: var93; truth: 0>\n",
      "<type: Atom; name: var94; truth: 0>\n",
      "<type: Atom; name: var95; truth: 1>\n",
      "<type: Atom; name: var96; truth: 1>\n",
      "<type: Atom; name: var97; truth: 1>\n",
      "<type: Atom; name: var98; truth: 1>\n",
      "<type: Atom; name: var99; truth: 1>\n",
      "<type: Atom; name: var100; truth: 0>\n"
     ]
    }
   ],
   "source": [
    "kg.train(lr=1e-1, converge=9e-4)"
   ]
  },
  {
   "cell_type": "code",
   "execution_count": 9,
   "metadata": {},
   "outputs": [
    {
     "name": "stdout",
     "output_type": "stream",
     "text": [
      "Pho roi 25, 0.0\n",
      "Pho roi 32, 0.0\n",
      "Pho roi 39, 0.0\n",
      "Pho roi 46, 0.0\n",
      "Pho roi 70, 0.0\n",
      "Pho roi 76, 0.0\n",
      "Pho roi 95, 0.0\n",
      "Pho roi 96, 0.0\n",
      "Pho roi 105, 0.0\n",
      "Pho roi 111, 0.0\n",
      "Pho roi 120, 0.0\n",
      "Pho roi 122, 0.0\n",
      "Pho roi 127, 0.0\n",
      "Pho roi 133, 0.0\n",
      "Pho roi 142, 0.0\n",
      "Pho roi 147, 0.0\n",
      "Pho roi 154, 0.0\n",
      "Pho roi 159, 0.0\n",
      "Pho roi 167, 0.0\n",
      "Pho roi 170, 0.0\n",
      "Pho roi 171, 0.0\n",
      "Pho roi 187, 0.0\n",
      "Pho roi 190, 0.0\n",
      "Pho roi 193, 0.0\n",
      "Pho roi 197, 0.0\n",
      "Pho roi 206, 0.0\n",
      "Pho roi 220, 0.0\n",
      "Pho roi 228, 0.0\n",
      "Pho roi 243, 0.0\n",
      "Pho roi 249, 0.0\n",
      "Pho roi 261, 0.0\n",
      "Pho roi 264, 0.0\n",
      "Pho roi 266, 0.0\n",
      "Pho roi 270, 0.0\n",
      "Pho roi 274, 0.0\n",
      "Pho roi 275, 0.0\n",
      "Pho roi 282, 0.0\n",
      "Pho roi 287, 0.0\n",
      "Pho roi 296, 0.0\n",
      "Pho roi 310, 0.0\n",
      "Pho roi 318, 0.0\n",
      "Pho roi 326, 0.0\n",
      "Pho roi 333, 0.0\n",
      "Pho roi 343, 0.0\n",
      "Pho roi 349, 0.0\n",
      "Pho roi 388, 0.0\n",
      "Pho roi 389, 0.0\n",
      "Pho roi 394, 0.0\n",
      "True\n"
     ]
    }
   ],
   "source": [
    "foo = False\n",
    "for i, symbol in enumerate(kg.symbols):\n",
    "    symbol.eval()\n",
    "    # print(symbol.truth.value)\n",
    "    if symbol.truth.value < .9:\n",
    "        print(f'Pho roi {i}, {symbol.truth.value}')\n",
    "        foo = True\n",
    "print(foo)"
   ]
  },
  {
   "cell_type": "code",
   "execution_count": 8,
   "metadata": {},
   "outputs": [
    {
     "data": {
      "text/plain": [
       "<type: Symbol; name: clause1; truth: 0.0>"
      ]
     },
     "execution_count": 8,
     "metadata": {},
     "output_type": "execute_result"
    }
   ],
   "source": [
    "kg.symbols[0]"
   ]
  },
  {
   "cell_type": "code",
   "execution_count": 9,
   "metadata": {},
   "outputs": [
    {
     "data": {
      "text/plain": [
       "'OR'"
      ]
     },
     "execution_count": 9,
     "metadata": {},
     "output_type": "execute_result"
    }
   ],
   "source": [
    "symb = kg.symbols[0]\n",
    "symb._op"
   ]
  },
  {
   "cell_type": "code",
   "execution_count": 10,
   "metadata": {},
   "outputs": [
    {
     "data": {
      "text/plain": [
       "(<type: Symbol; name: ; truth: 0>,\n",
       " <type: Atom; name: var40; truth: 0>,\n",
       " <type: Symbol; name: ; truth: 0>)"
      ]
     },
     "execution_count": 10,
     "metadata": {},
     "output_type": "execute_result"
    }
   ],
   "source": [
    "symb._children"
   ]
  },
  {
   "cell_type": "code",
   "execution_count": 12,
   "metadata": {},
   "outputs": [
    {
     "data": {
      "text/plain": [
       "<type: Atom; name: var68; truth: 1>"
      ]
     },
     "execution_count": 12,
     "metadata": {},
     "output_type": "execute_result"
    }
   ],
   "source": [
    "kg.atoms[67]"
   ]
  },
  {
   "cell_type": "code",
   "execution_count": 13,
   "metadata": {},
   "outputs": [
    {
     "data": {
      "text/plain": [
       "False"
      ]
     },
     "execution_count": 13,
     "metadata": {},
     "output_type": "execute_result"
    }
   ],
   "source": [
    "kg.sat()"
   ]
  },
  {
   "cell_type": "code",
   "execution_count": null,
   "metadata": {},
   "outputs": [],
   "source": []
  }
 ],
 "metadata": {
  "kernelspec": {
   "display_name": "Python 3",
   "language": "python",
   "name": "python3"
  },
  "language_info": {
   "codemirror_mode": {
    "name": "ipython",
    "version": 3
   },
   "file_extension": ".py",
   "mimetype": "text/x-python",
   "name": "python",
   "nbconvert_exporter": "python",
   "pygments_lexer": "ipython3",
   "version": "3.11.4"
  }
 },
 "nbformat": 4,
 "nbformat_minor": 2
}
